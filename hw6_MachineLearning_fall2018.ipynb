{
 "cells": [
  {
   "cell_type": "markdown",
   "metadata": {},
   "source": [
    "# Data-X Fall 2018: Homework 06 \n",
    "\n",
    "### Machine Learning\n",
    "\n",
    "**Authors:** Sana Iqbal (Part 1, 2, 3)\n",
    "\n",
    "\n",
    "In this homework, you will do some exercises with prediction.\n"
   ]
  },
  {
   "cell_type": "markdown",
   "metadata": {},
   "source": [
    "Name: Jeff Peng\n",
    "SID: 3034340183"
   ]
  },
  {
   "cell_type": "code",
   "execution_count": 85,
   "metadata": {},
   "outputs": [],
   "source": [
    "import numpy as np\n",
    "import pandas as pd"
   ]
  },
  {
   "cell_type": "code",
   "execution_count": 86,
   "metadata": {},
   "outputs": [],
   "source": [
    " # machine learning libraries\n",
    "from sklearn.linear_model import LogisticRegression\n",
    "from sklearn.svm import SVC, LinearSVC\n",
    "from sklearn.ensemble import RandomForestClassifier\n",
    "from sklearn.ensemble import AdaBoostClassifier\n",
    "from sklearn.neighbors import KNeighborsClassifier\n",
    "from sklearn.naive_bayes import GaussianNB\n",
    "from sklearn.linear_model import Perceptron\n",
    "from sklearn.linear_model import SGDClassifier\n",
    "from sklearn.tree import DecisionTreeClassifier\n",
    "#import xgboost as xgb"
   ]
  },
  {
   "cell_type": "markdown",
   "metadata": {
    "collapsed": true
   },
   "source": [
    "## Part 1"
   ]
  },
  {
   "cell_type": "markdown",
   "metadata": {},
   "source": [
    "\n",
    "\n",
    "__ 1. Read __`diabetesdata.csv`__ file into a pandas dataframe. \n",
    "About the data: __\n",
    "\n",
    "1. __TimesPregnant__: Number of times pregnant \n",
    "2. __glucoseLevel__: Plasma glucose concentration a 2 hours in an oral glucose tolerance test \n",
    "3. __BP__: Diastolic blood pressure (mm Hg)  \n",
    "5. __insulin__: 2-Hour serum insulin (mu U/ml) \n",
    "6. __BMI__: Body mass index (weight in kg/(height in m)^2) \n",
    "7. __pedigree__: Diabetes pedigree function \n",
    "8. __Age__: Age (years) \n",
    "9. __IsDiabetic__: 0 if not diabetic or 1 if diabetic) \n",
    "\n",
    "\n",
    "\n",
    "\n",
    "\n",
    "\n"
   ]
  },
  {
   "cell_type": "code",
   "execution_count": 87,
   "metadata": {},
   "outputs": [
    {
     "name": "stdout",
     "output_type": "stream",
     "text": [
      "     TimesPregnant  glucoseLevel  BP  insulin   BMI  Pedigree   Age  \\\n",
      "0                6         148.0  72        0  33.6     0.627  50.0   \n",
      "1                1           NaN  66        0  26.6     0.351  31.0   \n",
      "2                8         183.0  64        0  23.3     0.672   NaN   \n",
      "3                1           NaN  66       94  28.1     0.167  21.0   \n",
      "4                0         137.0  40      168  43.1     2.288  33.0   \n",
      "5                5         116.0  74        0  25.6     0.201  30.0   \n",
      "6                3          78.0  50       88  31.0     0.248  26.0   \n",
      "7               10         115.0   0        0  35.3     0.134  29.0   \n",
      "8                2         197.0  70      543  30.5     0.158  53.0   \n",
      "9                8           NaN  96        0   0.0     0.232  54.0   \n",
      "10               4         110.0  92        0  37.6     0.191   NaN   \n",
      "11              10         168.0  74        0  38.0     0.537  34.0   \n",
      "12              10         139.0  80        0  27.1     1.441  57.0   \n",
      "13               1           NaN  60      846  30.1     0.398  59.0   \n",
      "14               5         166.0  72      175  25.8     0.587  51.0   \n",
      "15               7         100.0   0        0  30.0     0.484  32.0   \n",
      "16               0           NaN  84      230  45.8     0.551  31.0   \n",
      "17               7         107.0  74        0  29.6     0.254  31.0   \n",
      "18               1         103.0  30       83  43.3     0.183  33.0   \n",
      "19               1         115.0  70       96  34.6     0.529  32.0   \n",
      "20               3         126.0  88      235  39.3     0.704  27.0   \n",
      "21               8          99.0  84        0  35.4     0.388  50.0   \n",
      "22               7         196.0  90        0  39.8     0.451  41.0   \n",
      "23               9         119.0  80        0  29.0     0.263  29.0   \n",
      "24              11         143.0  94      146  36.6     0.254  51.0   \n",
      "25              10         125.0  70      115  31.1     0.205  41.0   \n",
      "26               7         147.0  76        0  39.4     0.257  43.0   \n",
      "27               1          97.0  66      140  23.2     0.487   NaN   \n",
      "28              13           NaN  82      110  22.2     0.245  57.0   \n",
      "29               5         117.0  92        0  34.1     0.337  38.0   \n",
      "..             ...           ...  ..      ...   ...       ...   ...   \n",
      "738              2          99.0  60      160  36.6     0.453   NaN   \n",
      "739              1         102.0  74        0  39.5     0.293  42.0   \n",
      "740             11         120.0  80      150  42.3     0.785  48.0   \n",
      "741              3         102.0  44       94  30.8     0.400  26.0   \n",
      "742              1         109.0  58      116  28.5     0.219  22.0   \n",
      "743              9         140.0  94        0  32.7     0.734  45.0   \n",
      "744             13         153.0  88      140  40.6     1.174  39.0   \n",
      "745             12         100.0  84      105  30.0     0.488  46.0   \n",
      "746              1         147.0  94        0  49.3     0.358  27.0   \n",
      "747              1          81.0  74       57  46.3     1.096  32.0   \n",
      "748              3         187.0  70      200  36.4     0.408  36.0   \n",
      "749              6         162.0  62        0  24.3     0.178  50.0   \n",
      "750              4         136.0  70        0  31.2     1.182  22.0   \n",
      "751              1         121.0  78       74  39.0     0.261  28.0   \n",
      "752              3         108.0  62        0  26.0     0.223  25.0   \n",
      "753              0         181.0  88      510  43.3     0.222  26.0   \n",
      "754              8         154.0  78        0  32.4     0.443  45.0   \n",
      "755              1         128.0  88      110  36.5     1.057  37.0   \n",
      "756              7         137.0  90        0  32.0     0.391  39.0   \n",
      "757              0         123.0  72        0  36.3     0.258  52.0   \n",
      "758              1         106.0  76        0  37.5     0.197  26.0   \n",
      "759              6         190.0  92        0  35.5     0.278  66.0   \n",
      "760              2          88.0  58       16  28.4     0.766  22.0   \n",
      "761              9         170.0  74        0  44.0     0.403  43.0   \n",
      "762              9          89.0  62        0  22.5     0.142  33.0   \n",
      "763             10         101.0  76      180  32.9     0.171  63.0   \n",
      "764              2         122.0  70        0  36.8     0.340  27.0   \n",
      "765              5         121.0  72      112  26.2     0.245  30.0   \n",
      "766              1         126.0  60        0  30.1     0.349  47.0   \n",
      "767              1          93.0  70        0  30.4     0.315  23.0   \n",
      "\n",
      "     IsDiabetic  \n",
      "0             1  \n",
      "1             0  \n",
      "2             1  \n",
      "3             0  \n",
      "4             1  \n",
      "5             0  \n",
      "6             1  \n",
      "7             0  \n",
      "8             1  \n",
      "9             1  \n",
      "10            0  \n",
      "11            1  \n",
      "12            0  \n",
      "13            1  \n",
      "14            1  \n",
      "15            1  \n",
      "16            1  \n",
      "17            1  \n",
      "18            0  \n",
      "19            1  \n",
      "20            0  \n",
      "21            0  \n",
      "22            1  \n",
      "23            1  \n",
      "24            1  \n",
      "25            1  \n",
      "26            1  \n",
      "27            0  \n",
      "28            0  \n",
      "29            0  \n",
      "..          ...  \n",
      "738           0  \n",
      "739           1  \n",
      "740           1  \n",
      "741           0  \n",
      "742           0  \n",
      "743           1  \n",
      "744           0  \n",
      "745           0  \n",
      "746           1  \n",
      "747           0  \n",
      "748           1  \n",
      "749           1  \n",
      "750           1  \n",
      "751           0  \n",
      "752           0  \n",
      "753           1  \n",
      "754           1  \n",
      "755           1  \n",
      "756           0  \n",
      "757           1  \n",
      "758           0  \n",
      "759           1  \n",
      "760           0  \n",
      "761           1  \n",
      "762           0  \n",
      "763           0  \n",
      "764           0  \n",
      "765           0  \n",
      "766           1  \n",
      "767           0  \n",
      "\n",
      "[768 rows x 8 columns]\n"
     ]
    }
   ],
   "source": [
    "#Read data & print it\n",
    "data = pd.read_csv('diabetesdata.csv')\n",
    "print(data)"
   ]
  },
  {
   "cell_type": "markdown",
   "metadata": {},
   "source": [
    "**2. Calculate the percentage of NaN values in each column.**"
   ]
  },
  {
   "cell_type": "code",
   "execution_count": 88,
   "metadata": {},
   "outputs": [
    {
     "name": "stdout",
     "output_type": "stream",
     "text": [
      "[0.0, 4.427083333333334, 0.0, 0.0, 0.0, 0.0, 4.296875, 0.0]\n"
     ]
    }
   ],
   "source": [
    "NullsPerColumn=[]\n",
    "for i in range(0,8):\n",
    "    NullsPerColumn_i = 100*(data.iloc[:,i].isna().sum()/len(data))\n",
    "    NullsPerColumn.append(NullsPerColumn_i)\n",
    "print(NullsPerColumn)\n",
    "\n"
   ]
  },
  {
   "cell_type": "code",
   "execution_count": 58,
   "metadata": {},
   "outputs": [],
   "source": [
    "###RUN THIS CELL BUT DO NOT ALTER IT \n",
    "#assert all(NullsPerColumn.columns == ['Percentage Null'])\n",
    "#assert NullsPerColumn['Percentage Null'][-2] ==  0.04296875"
   ]
  },
  {
   "cell_type": "markdown",
   "metadata": {},
   "source": [
    "**3. Calculate the TOTAL percent of ROWS with NaN values in the dataframe (make sure values are floats).**"
   ]
  },
  {
   "cell_type": "code",
   "execution_count": 89,
   "metadata": {},
   "outputs": [
    {
     "name": "stdout",
     "output_type": "stream",
     "text": [
      "8.333333333333334\n"
     ]
    }
   ],
   "source": [
    "PercentNull = 0\n",
    "for i in range(0,len(data)):\n",
    "    NullsPerRow_i=data.iloc[i,:].isna().sum()\n",
    "    if NullsPerRow_i!=0:\n",
    "        PercentNull+=1\n",
    "PercentNull*=100/len(data)\n",
    "print(PercentNull)"
   ]
  },
  {
   "cell_type": "markdown",
   "metadata": {},
   "source": [
    "**4. Split __`data`__  into  __`train_df`__ and __`test_df`__  with 15% test split.**\n"
   ]
  },
  {
   "cell_type": "code",
   "execution_count": 114,
   "metadata": {},
   "outputs": [],
   "source": [
    "#split values\n",
    "from sklearn.model_selection import train_test_split\n",
    "train_df, test_df = train_test_split(data, test_size=0.15, random_state=15)\n"
   ]
  },
  {
   "cell_type": "code",
   "execution_count": 115,
   "metadata": {},
   "outputs": [],
   "source": [
    "###RUN THIS CELL BUT DO NOT ALTER IT \n",
    "np.testing.assert_almost_equal(float(len(train_df))/float(len(data)), 0.8489583333333334, 1)\n",
    "np.testing.assert_almost_equal(float(len(test_df))/float(len(data)), 0.15104166666666666, 1)"
   ]
  },
  {
   "cell_type": "markdown",
   "metadata": {},
   "source": [
    "**5. Replace the Nan values in  __`train_df`__ and __`test_df`__  with the mean of EACH feature.**"
   ]
  },
  {
   "cell_type": "code",
   "execution_count": 116,
   "metadata": {},
   "outputs": [
    {
     "name": "stderr",
     "output_type": "stream",
     "text": [
      "/anaconda3/envs/data-x/lib/python3.6/site-packages/pandas/core/indexing.py:543: SettingWithCopyWarning: \n",
      "A value is trying to be set on a copy of a slice from a DataFrame.\n",
      "Try using .loc[row_indexer,col_indexer] = value instead\n",
      "\n",
      "See the caveats in the documentation: http://pandas.pydata.org/pandas-docs/stable/indexing.html#indexing-view-versus-copy\n",
      "  self.obj[item] = s\n"
     ]
    },
    {
     "name": "stdout",
     "output_type": "stream",
     "text": [
      "     TimesPregnant  glucoseLevel   BP  insulin   BMI  Pedigree   Age  \\\n",
      "524              3    125.000000   58        0  31.6     0.151  24.0   \n",
      "357             13    129.000000    0        0  39.9     0.569  44.0   \n",
      "219              5    112.000000   66        0  37.8     0.261  41.0   \n",
      "713              0    120.951923   58      291  26.4     0.352  21.0   \n",
      "605              1    124.000000   60        0  35.8     0.514  21.0   \n",
      "758              1    106.000000   76        0  37.5     0.197  26.0   \n",
      "504              3     96.000000   78        0  37.3     0.238  40.0   \n",
      "512              9     91.000000   68        0  24.2     0.200  58.0   \n",
      "413              1    143.000000   74       61  26.2     0.256  21.0   \n",
      "92               7     81.000000   78       48  46.7     0.261  42.0   \n",
      "535              4    132.000000    0        0  32.9     0.302  23.0   \n",
      "518             13     76.000000   60        0  32.8     0.180  41.0   \n",
      "567              6     92.000000   62      126  32.0     0.085  46.0   \n",
      "756              7    137.000000   90        0  32.0     0.391  39.0   \n",
      "8                2    197.000000   70      543  30.5     0.158  53.0   \n",
      "56               7    187.000000   68      304  37.7     0.254  41.0   \n",
      "313              3    113.000000   50       85  29.5     0.626  25.0   \n",
      "448              0    104.000000   64       64  33.6     0.510  22.0   \n",
      "619              0    119.000000    0        0  32.4     0.141  24.0   \n",
      "53               8    176.000000   90      300  33.7     0.467  58.0   \n",
      "457              5     86.000000   68       71  30.2     0.364  24.0   \n",
      "52               5     88.000000   66       23  24.4     0.342  30.0   \n",
      "358             12     88.000000   74       54  35.3     0.378  48.0   \n",
      "322              0    124.000000   70        0  27.4     0.254  36.0   \n",
      "276              7    106.000000   60        0  26.5     0.296  29.0   \n",
      "339              7    178.000000   84        0  39.9     0.331  41.0   \n",
      "733              2    120.951923   56      165  29.0     0.426  33.5   \n",
      "727              0    141.000000   84        0  32.4     0.433  33.5   \n",
      "581              6    109.000000   60        0  25.0     0.206  27.0   \n",
      "489              8    194.000000   80        0  26.1     0.551  67.0   \n",
      "..             ...           ...  ...      ...   ...       ...   ...   \n",
      "331              2     87.000000   58       52  32.7     0.166  25.0   \n",
      "597              1     89.000000   24       25  27.8     0.559  21.0   \n",
      "96               2     92.000000   62        0  31.6     0.130  24.0   \n",
      "1                1    120.951923   66        0  26.6     0.351  31.0   \n",
      "177              0    129.000000  110      130  67.1     0.319  26.0   \n",
      "15               7    100.000000    0        0  30.0     0.484  32.0   \n",
      "102              0    125.000000   96        0  22.5     0.262  21.0   \n",
      "335              0    165.000000   76      255  47.9     0.259  26.0   \n",
      "157              1    109.000000   56      135  25.2     0.833  23.0   \n",
      "717             10    120.951923   72        0  23.1     0.595  56.0   \n",
      "19               1    115.000000   70       96  34.6     0.529  32.0   \n",
      "39               4    111.000000   72      207  37.1     1.390  56.0   \n",
      "196              1    105.000000   58        0  24.3     0.187  21.0   \n",
      "143             10    108.000000   66        0  32.4     0.272  42.0   \n",
      "318              3    115.000000   66      140  38.1     0.150  28.0   \n",
      "416              1     97.000000   68        0  27.2     1.095  22.0   \n",
      "23               9    119.000000   80        0  29.0     0.263  29.0   \n",
      "749              6    162.000000   62        0  24.3     0.178  50.0   \n",
      "17               7    107.000000   74        0  29.6     0.254  31.0   \n",
      "221              2    158.000000   90        0  31.6     0.805  66.0   \n",
      "630              7    114.000000   64        0  27.4     0.732  34.0   \n",
      "85               2    110.000000   74      125  32.4     0.698  27.0   \n",
      "715              7    120.951923   50      392  33.9     0.826  34.0   \n",
      "199              4    148.000000   60      318  30.9     0.150  29.0   \n",
      "667             10    111.000000   70        0  27.5     0.141  40.0   \n",
      "156              2     99.000000   52       94  24.6     0.637  21.0   \n",
      "384              1    125.000000   70      110  24.3     0.221  25.0   \n",
      "645              2    157.000000   74      440  39.4     0.134  30.0   \n",
      "757              0    123.000000   72        0  36.3     0.258  52.0   \n",
      "456              1    135.000000   54        0  26.7     0.687  62.0   \n",
      "\n",
      "     IsDiabetic  \n",
      "524           0  \n",
      "357           1  \n",
      "219           1  \n",
      "713           0  \n",
      "605           0  \n",
      "758           0  \n",
      "504           0  \n",
      "512           0  \n",
      "413           0  \n",
      "92            0  \n",
      "535           1  \n",
      "518           0  \n",
      "567           0  \n",
      "756           0  \n",
      "8             1  \n",
      "56            1  \n",
      "313           0  \n",
      "448           1  \n",
      "619           1  \n",
      "53            1  \n",
      "457           0  \n",
      "52            0  \n",
      "358           0  \n",
      "322           1  \n",
      "276           1  \n",
      "339           1  \n",
      "733           0  \n",
      "727           0  \n",
      "581           0  \n",
      "489           0  \n",
      "..          ...  \n",
      "331           0  \n",
      "597           0  \n",
      "96            0  \n",
      "1             0  \n",
      "177           1  \n",
      "15            1  \n",
      "102           0  \n",
      "335           0  \n",
      "157           0  \n",
      "717           0  \n",
      "19            1  \n",
      "39            1  \n",
      "196           0  \n",
      "143           1  \n",
      "318           0  \n",
      "416           0  \n",
      "23            1  \n",
      "749           1  \n",
      "17            1  \n",
      "221           1  \n",
      "630           1  \n",
      "85            0  \n",
      "715           1  \n",
      "199           1  \n",
      "667           1  \n",
      "156           0  \n",
      "384           0  \n",
      "645           0  \n",
      "757           1  \n",
      "456           0  \n",
      "\n",
      "[652 rows x 8 columns]\n",
      "     TimesPregnant  glucoseLevel   BP  insulin   BMI  Pedigree        Age  \\\n",
      "343              5    122.000000   86        0  34.7     0.290  33.000000   \n",
      "728              2    121.381818   88        0  22.9     0.326  22.000000   \n",
      "73               4    129.000000   86      270  35.1     0.231  23.000000   \n",
      "254             12     92.000000   62      258  27.6     0.926  44.000000   \n",
      "741              3    102.000000   44       94  30.8     0.400  26.000000   \n",
      "120              0    162.000000   76      100  53.2     0.759  25.000000   \n",
      "746              1    147.000000   94        0  49.3     0.358  27.000000   \n",
      "689              1    144.000000   82      180  46.1     0.335  46.000000   \n",
      "432              1     80.000000   74       60  30.0     0.527  22.000000   \n",
      "314              7    109.000000   80        0  35.9     1.127  43.000000   \n",
      "579              2    197.000000   70        0  34.7     0.575  62.000000   \n",
      "704              4    110.000000   76      100  28.4     0.118  27.000000   \n",
      "533              6     91.000000    0        0  29.8     0.501  31.000000   \n",
      "268              0    102.000000   52        0  25.1     0.078  21.000000   \n",
      "124              0    113.000000   76        0  33.3     0.278  32.513761   \n",
      "147              2    106.000000   64      119  30.5     1.400  34.000000   \n",
      "551              3     84.000000   68      106  31.9     0.591  25.000000   \n",
      "525              3     87.000000   60        0  21.8     0.444  21.000000   \n",
      "325              1    157.000000   72      168  25.6     0.123  24.000000   \n",
      "58               0    146.000000   82        0  40.5     1.781  44.000000   \n",
      "640              0    102.000000   86      105  29.3     0.695  27.000000   \n",
      "545              8    186.000000   90      225  34.5     0.423  37.000000   \n",
      "90               1     80.000000   55        0  19.1     0.258  21.000000   \n",
      "336              0    117.000000    0        0  33.8     0.932  44.000000   \n",
      "63               2    141.000000   58      128  25.4     0.699  24.000000   \n",
      "424              8    151.000000   78      210  42.9     0.516  36.000000   \n",
      "762              9     89.000000   62        0  22.5     0.142  33.000000   \n",
      "653              2    120.000000   54        0  26.8     0.455  32.513761   \n",
      "126              3    120.000000   70      135  42.9     0.452  30.000000   \n",
      "682              0     95.000000   64      105  44.6     0.366  22.000000   \n",
      "..             ...           ...  ...      ...   ...       ...        ...   \n",
      "415              3    173.000000   84      474  35.7     0.258  22.000000   \n",
      "44               7    159.000000   64        0  27.4     0.294  40.000000   \n",
      "737              8    121.381818   72        0  32.0     0.600  42.000000   \n",
      "228              4    197.000000   70      744  36.7     2.329  31.000000   \n",
      "54               7    150.000000   66      342  34.7     0.718  42.000000   \n",
      "328              2    102.000000   86      120  45.5     0.127  23.000000   \n",
      "380              1    107.000000   72       82  30.8     0.821  24.000000   \n",
      "654              1    106.000000   70      135  34.2     0.142  32.513761   \n",
      "408              8    197.000000   74        0  25.9     1.191  39.000000   \n",
      "658             11    127.000000  106        0  39.0     0.190  51.000000   \n",
      "405              2    123.000000   48      165  42.1     0.520  26.000000   \n",
      "388              5    144.000000   82      285  32.0     0.452  58.000000   \n",
      "169              3    111.000000   90       78  28.4     0.495  29.000000   \n",
      "475              0    137.000000   84        0  27.3     0.231  59.000000   \n",
      "103              1     81.000000   72       40  26.6     0.283  24.000000   \n",
      "206              8    196.000000   76      280  37.5     0.605  57.000000   \n",
      "148              5    147.000000   78        0  33.7     0.218  65.000000   \n",
      "402              5    136.000000   84       88  35.0     0.286  35.000000   \n",
      "296              2    146.000000   70      360  28.0     0.337  29.000000   \n",
      "622              6    183.000000   94        0  40.8     1.461  45.000000   \n",
      "414              0    138.000000   60      167  34.6     0.534  21.000000   \n",
      "67               2    109.000000   92        0  42.7     0.845  54.000000   \n",
      "543              4     84.000000   90       56  39.5     0.159  25.000000   \n",
      "18               1    103.000000   30       83  43.3     0.183  33.000000   \n",
      "41               7    133.000000   84        0  40.2     0.696  37.000000   \n",
      "136              0    100.000000   70       50  30.8     0.597  21.000000   \n",
      "639              1    100.000000   74       46  19.5     0.149  28.000000   \n",
      "211              0    147.000000   85        0  42.8     0.375  24.000000   \n",
      "677              0     93.000000   60        0  35.3     0.263  25.000000   \n",
      "205              5    111.000000   72        0  23.9     0.407  27.000000   \n",
      "\n",
      "     IsDiabetic  \n",
      "343           0  \n",
      "728           0  \n",
      "73            0  \n",
      "254           1  \n",
      "741           0  \n",
      "120           1  \n",
      "746           1  \n",
      "689           1  \n",
      "432           0  \n",
      "314           1  \n",
      "579           1  \n",
      "704           0  \n",
      "533           0  \n",
      "268           0  \n",
      "124           1  \n",
      "147           0  \n",
      "551           0  \n",
      "525           0  \n",
      "325           0  \n",
      "58            0  \n",
      "640           0  \n",
      "545           1  \n",
      "90            0  \n",
      "336           0  \n",
      "63            0  \n",
      "424           1  \n",
      "762           0  \n",
      "653           0  \n",
      "126           0  \n",
      "682           0  \n",
      "..          ...  \n",
      "415           1  \n",
      "44            0  \n",
      "737           0  \n",
      "228           0  \n",
      "54            0  \n",
      "328           1  \n",
      "380           0  \n",
      "654           0  \n",
      "408           1  \n",
      "658           0  \n",
      "405           0  \n",
      "388           1  \n",
      "169           0  \n",
      "475           0  \n",
      "103           0  \n",
      "206           1  \n",
      "148           0  \n",
      "402           1  \n",
      "296           1  \n",
      "622           0  \n",
      "414           1  \n",
      "67            0  \n",
      "543           0  \n",
      "18            0  \n",
      "41            0  \n",
      "136           0  \n",
      "639           0  \n",
      "211           0  \n",
      "677           0  \n",
      "205           0  \n",
      "\n",
      "[116 rows x 8 columns]\n"
     ]
    }
   ],
   "source": [
    "mean_train=[]\n",
    "for i in range(0,8):\n",
    "    mean_train_i=np.mean(train_df.iloc[:,i])\n",
    "    mean_train.append(mean_train_i)\n",
    "mean_test=[]\n",
    "for i in range(0,8):\n",
    "    mean_test_i=np.mean(test_df.iloc[:,i])\n",
    "    mean_test.append(mean_test_i)\n",
    "for i in range(0,8):\n",
    "    train_df.iloc[:,i]=train_df.iloc[:,i].fillna(mean_train[i])\n",
    "\n",
    "print(train_df)\n",
    "for i in range(0,8):\n",
    "    test_df.iloc[:,i]=test_df.iloc[:,i].fillna(mean_test[i])\n",
    "\n",
    "print(test_df)\n"
   ]
  },
  {
   "cell_type": "code",
   "execution_count": 117,
   "metadata": {},
   "outputs": [],
   "source": [
    "###RUN THIS CELL BUT DO NOT ALTER IT \n",
    "assert sum(train_df.isnull().sum()) == 0 \n",
    "assert sum(test_df.isnull().sum()) == 0 \n"
   ]
  },
  {
   "cell_type": "markdown",
   "metadata": {},
   "source": [
    "**6. Split __`train_df`__ & __`test_df`__   into  __`X_train`__, __`Y_train`__  and __`X_test`__, __`Y_test`__. __`Y_train`__  and __`Y_test`__ should only have the column we are trying to predict,  __`IsDiabetic`__.**"
   ]
  },
  {
   "cell_type": "code",
   "execution_count": 118,
   "metadata": {},
   "outputs": [],
   "source": [
    "X_train = train_df.iloc[:,0:7]\n",
    "Y_train = train_df.iloc[:,7]\n",
    "X_test = test_df.iloc[:,0:7]\n",
    "Y_test = test_df.iloc[:,7]\n",
    "\n"
   ]
  },
  {
   "cell_type": "code",
   "execution_count": 119,
   "metadata": {},
   "outputs": [],
   "source": [
    "###RUN THIS CELL BUT DO NOT ALTER IT \n",
    "assert [X_train.shape, Y_train.shape, X_test.shape,Y_test.shape] == [(652, 7), (652,), (116, 7),(116,)]\n"
   ]
  },
  {
   "cell_type": "markdown",
   "metadata": {},
   "source": [
    "**7.Use this dataset to train perceptron, logistic regression and random forest models using 15% test split. Report training and test accuracies.**"
   ]
  },
  {
   "cell_type": "code",
   "execution_count": 120,
   "metadata": {},
   "outputs": [
    {
     "name": "stdout",
     "output_type": "stream",
     "text": [
      "logreg training acuracy=  0.7822085889570553\n",
      "logreg test accuracy=  0.7413793103448276\n"
     ]
    }
   ],
   "source": [
    "# Logistic Regression\n",
    "\n",
    "logreg = LogisticRegression()\n",
    "logreg.fit(X_train, Y_train)\n",
    "logreg_train_acc = logreg.score(X_train, Y_train)\n",
    "logreg_test_acc = logreg.score(X_test,Y_test)\n",
    "print('logreg training acuracy= ',logreg_train_acc)\n",
    "print('logreg test accuracy= ',logreg_test_acc)"
   ]
  },
  {
   "cell_type": "code",
   "execution_count": 121,
   "metadata": {},
   "outputs": [
    {
     "name": "stdout",
     "output_type": "stream",
     "text": [
      "perceptron training acuracy=  0.651840490797546\n",
      "perceptron test accuracy=  0.6982758620689655\n"
     ]
    },
    {
     "name": "stderr",
     "output_type": "stream",
     "text": [
      "/anaconda3/envs/data-x/lib/python3.6/site-packages/sklearn/linear_model/stochastic_gradient.py:128: FutureWarning: max_iter and tol parameters have been added in <class 'sklearn.linear_model.perceptron.Perceptron'> in 0.19. If both are left unset, they default to max_iter=5 and tol=None. If tol is not None, max_iter defaults to max_iter=1000. From 0.21, default max_iter will be 1000, and default tol will be 1e-3.\n",
      "  \"and default tol will be 1e-3.\" % type(self), FutureWarning)\n"
     ]
    }
   ],
   "source": [
    "# Perceptron\n",
    "\n",
    "perceptron = Perceptron()\n",
    "perceptron.fit(X_train, Y_train)\n",
    "perceptron_train_acc = perceptron.score(X_train, Y_train)\n",
    "perceptron_test_acc = perceptron.score(X_test,Y_test)\n",
    "print ('perceptron training acuracy= ',perceptron_train_acc)\n",
    "print('perceptron test accuracy= ',perceptron_test_acc)\n"
   ]
  },
  {
   "cell_type": "code",
   "execution_count": 122,
   "metadata": {},
   "outputs": [
    {
     "name": "stdout",
     "output_type": "stream",
     "text": [
      "adaboost training acuracy=  0.8128834355828221\n",
      "adaboost test accuracy=  0.75\n"
     ]
    }
   ],
   "source": [
    "# Adaboost\n",
    "adaboost = AdaBoostClassifier()\n",
    "adaboost.fit(X_train, Y_train)\n",
    "adaboost_train_acc = adaboost.score(X_train, Y_train)\n",
    "adaboost_test_acc = adaboost.score(X_test, Y_test)\n",
    "print ('adaboost training acuracy= ',adaboost_train_acc)\n",
    "print('adaboost test accuracy= ',adaboost_test_acc)"
   ]
  },
  {
   "cell_type": "code",
   "execution_count": 123,
   "metadata": {},
   "outputs": [
    {
     "name": "stdout",
     "output_type": "stream",
     "text": [
      "random_forest training acuracy=  0.9831288343558282\n",
      "random_forest test accuracy=  0.7241379310344828\n"
     ]
    }
   ],
   "source": [
    "# Random Forest\n",
    "random_forest = RandomForestClassifier()\n",
    "random_forest.fit(X_train, Y_train)\n",
    "random_forest_train_acc = random_forest.score(X_train, Y_train)\n",
    "random_forest_test_acc = random_forest.score(X_test, Y_test)\n",
    "print('random_forest training acuracy= ',random_forest_train_acc)\n",
    "print('random_forest test accuracy= ',random_forest_test_acc)"
   ]
  },
  {
   "cell_type": "markdown",
   "metadata": {},
   "source": [
    "**8. Is mean imputation is the best type of imputation to use? Why or why not? What are some other ways to impute the data?**"
   ]
  },
  {
   "cell_type": "markdown",
   "metadata": {},
   "source": [
    "I think it isn't the best type to use becuase mean imputation does not preserve the relationship between the variables. Other ways of imputation include using a value from another randomly selected record or a value estimated by another predictive model."
   ]
  },
  {
   "cell_type": "markdown",
   "metadata": {},
   "source": [
    "## Part 2"
   ]
  },
  {
   "cell_type": "markdown",
   "metadata": {},
   "source": [
    "\n",
    "__1.Add columns __`BMI_band`__ & __`Pedigree_band`__  to  __`Data`__  by cutting __`BMI`__ & __`Pedigree`__ into 3 intervals. PRINT the first 5 rows of__`data`__.__\n"
   ]
  },
  {
   "cell_type": "code",
   "execution_count": 124,
   "metadata": {},
   "outputs": [
    {
     "data": {
      "text/html": [
       "<div>\n",
       "<style scoped>\n",
       "    .dataframe tbody tr th:only-of-type {\n",
       "        vertical-align: middle;\n",
       "    }\n",
       "\n",
       "    .dataframe tbody tr th {\n",
       "        vertical-align: top;\n",
       "    }\n",
       "\n",
       "    .dataframe thead th {\n",
       "        text-align: right;\n",
       "    }\n",
       "</style>\n",
       "<table border=\"1\" class=\"dataframe\">\n",
       "  <thead>\n",
       "    <tr style=\"text-align: right;\">\n",
       "      <th></th>\n",
       "      <th>TimesPregnant</th>\n",
       "      <th>glucoseLevel</th>\n",
       "      <th>BP</th>\n",
       "      <th>insulin</th>\n",
       "      <th>BMI</th>\n",
       "      <th>Pedigree</th>\n",
       "      <th>Age</th>\n",
       "      <th>IsDiabetic</th>\n",
       "      <th>BMI_band</th>\n",
       "      <th>Pedigree_band</th>\n",
       "    </tr>\n",
       "  </thead>\n",
       "  <tbody>\n",
       "    <tr>\n",
       "      <th>0</th>\n",
       "      <td>6</td>\n",
       "      <td>148.0</td>\n",
       "      <td>72</td>\n",
       "      <td>0</td>\n",
       "      <td>33.6</td>\n",
       "      <td>0.627</td>\n",
       "      <td>50.0</td>\n",
       "      <td>1</td>\n",
       "      <td>(22.367, 44.733]</td>\n",
       "      <td>(0.0757, 0.859]</td>\n",
       "    </tr>\n",
       "    <tr>\n",
       "      <th>1</th>\n",
       "      <td>1</td>\n",
       "      <td>NaN</td>\n",
       "      <td>66</td>\n",
       "      <td>0</td>\n",
       "      <td>26.6</td>\n",
       "      <td>0.351</td>\n",
       "      <td>31.0</td>\n",
       "      <td>0</td>\n",
       "      <td>(22.367, 44.733]</td>\n",
       "      <td>(0.0757, 0.859]</td>\n",
       "    </tr>\n",
       "    <tr>\n",
       "      <th>2</th>\n",
       "      <td>8</td>\n",
       "      <td>183.0</td>\n",
       "      <td>64</td>\n",
       "      <td>0</td>\n",
       "      <td>23.3</td>\n",
       "      <td>0.672</td>\n",
       "      <td>NaN</td>\n",
       "      <td>1</td>\n",
       "      <td>(22.367, 44.733]</td>\n",
       "      <td>(0.0757, 0.859]</td>\n",
       "    </tr>\n",
       "    <tr>\n",
       "      <th>3</th>\n",
       "      <td>1</td>\n",
       "      <td>NaN</td>\n",
       "      <td>66</td>\n",
       "      <td>94</td>\n",
       "      <td>28.1</td>\n",
       "      <td>0.167</td>\n",
       "      <td>21.0</td>\n",
       "      <td>0</td>\n",
       "      <td>(22.367, 44.733]</td>\n",
       "      <td>(0.0757, 0.859]</td>\n",
       "    </tr>\n",
       "    <tr>\n",
       "      <th>4</th>\n",
       "      <td>0</td>\n",
       "      <td>137.0</td>\n",
       "      <td>40</td>\n",
       "      <td>168</td>\n",
       "      <td>43.1</td>\n",
       "      <td>2.288</td>\n",
       "      <td>33.0</td>\n",
       "      <td>1</td>\n",
       "      <td>(22.367, 44.733]</td>\n",
       "      <td>(1.639, 2.42]</td>\n",
       "    </tr>\n",
       "  </tbody>\n",
       "</table>\n",
       "</div>"
      ],
      "text/plain": [
       "   TimesPregnant  glucoseLevel  BP  insulin   BMI  Pedigree   Age  IsDiabetic  \\\n",
       "0              6         148.0  72        0  33.6     0.627  50.0           1   \n",
       "1              1           NaN  66        0  26.6     0.351  31.0           0   \n",
       "2              8         183.0  64        0  23.3     0.672   NaN           1   \n",
       "3              1           NaN  66       94  28.1     0.167  21.0           0   \n",
       "4              0         137.0  40      168  43.1     2.288  33.0           1   \n",
       "\n",
       "           BMI_band    Pedigree_band  \n",
       "0  (22.367, 44.733]  (0.0757, 0.859]  \n",
       "1  (22.367, 44.733]  (0.0757, 0.859]  \n",
       "2  (22.367, 44.733]  (0.0757, 0.859]  \n",
       "3  (22.367, 44.733]  (0.0757, 0.859]  \n",
       "4  (22.367, 44.733]    (1.639, 2.42]  "
      ]
     },
     "execution_count": 124,
     "metadata": {},
     "output_type": "execute_result"
    }
   ],
   "source": [
    "BMI_band=pd.cut(data['BMI'],3)\n",
    "data['BMI_band']=BMI_band\n",
    "Pedigree_band=pd.cut(data['Pedigree'],3)\n",
    "data['Pedigree_band']=Pedigree_band\n",
    "#raise NotImplementedError()\n",
    "data.head(5)"
   ]
  },
  {
   "cell_type": "markdown",
   "metadata": {},
   "source": [
    "__1a. Print the category intervals for __`BMI_band`__ & __`Pedigree_band`."
   ]
  },
  {
   "cell_type": "code",
   "execution_count": 125,
   "metadata": {},
   "outputs": [
    {
     "name": "stdout",
     "output_type": "stream",
     "text": [
      "BMI_Band_Interval: [(22.367, 44.733], (-0.0671, 22.367], (44.733, 67.1]]\n",
      "Categories (3, interval[float64]): [(-0.0671, 22.367] < (22.367, 44.733] < (44.733, 67.1]]\n",
      "Pedigree_Band_Interval: [(0.0757, 0.859], (1.639, 2.42], (0.859, 1.639]]\n",
      "Categories (3, interval[float64]): [(0.0757, 0.859] < (0.859, 1.639] < (1.639, 2.42]]\n"
     ]
    }
   ],
   "source": [
    "print('BMI_Band_Interval: ' + str(BMI_band.unique()))\n",
    "print('Pedigree_Band_Interval: ' + str(Pedigree_band.unique()))\n",
    "                                                 "
   ]
  },
  {
   "cell_type": "markdown",
   "metadata": {},
   "source": [
    "__2. Group __`data`__ by __`Pedigree_band`__ & determine ratio of diabetic in each band.__"
   ]
  },
  {
   "cell_type": "code",
   "execution_count": 126,
   "metadata": {},
   "outputs": [
    {
     "data": {
      "text/plain": [
       "Pedigree_band\n",
       "(0.0757, 0.859]    0.327007\n",
       "(0.859, 1.639]     0.540541\n",
       "(1.639, 2.42]      0.444444\n",
       "Name: IsDiabetic, dtype: float64"
      ]
     },
     "execution_count": 126,
     "metadata": {},
     "output_type": "execute_result"
    }
   ],
   "source": [
    "number_of_diabetics=data.groupby(['Pedigree_band'])['IsDiabetic'].sum()\n",
    "number_in_each_group=data.groupby(['Pedigree_band'])['IsDiabetic'].count()\n",
    "\n",
    "pedigree_DiabeticRatio=number_of_diabetics/number_in_each_group\n",
    "\n",
    "\n",
    "#raise NotImplementedError()\n",
    " \n",
    "pedigree_DiabeticRatio "
   ]
  },
  {
   "cell_type": "markdown",
   "metadata": {},
   "source": [
    "__2a. Group  __`data`__ by __`BMI_band`__ & determine ratio of diabetic in each band.__"
   ]
  },
  {
   "cell_type": "code",
   "execution_count": 127,
   "metadata": {},
   "outputs": [
    {
     "data": {
      "text/plain": [
       "BMI_band\n",
       "(-0.0671, 22.367]    0.039216\n",
       "(22.367, 44.733]     0.358297\n",
       "(44.733, 67.1]       0.611111\n",
       "Name: IsDiabetic, dtype: float64"
      ]
     },
     "execution_count": 127,
     "metadata": {},
     "output_type": "execute_result"
    }
   ],
   "source": [
    "number_of_diabetics_a=data.groupby(['BMI_band'])['IsDiabetic'].sum()\n",
    "number_in_each_group_a=data.groupby(['BMI_band'])['IsDiabetic'].count()\n",
    "#raise NotImplementedError()\n",
    " \n",
    "BMI_DiabeticRatio = number_of_diabetics_a/number_in_each_group_a\n",
    "BMI_DiabeticRatio"
   ]
  },
  {
   "cell_type": "code",
   "execution_count": 130,
   "metadata": {},
   "outputs": [],
   "source": [
    "###RUN THIS CELL BUT DO NOT ALTER IT \n",
    "#assert BMI_DiabeticRatio['IsDiabetic'][1] == 0.35829662261380324\n",
    "#assert pedigree_DiabeticRatio['IsDiabetic'][1] == 0.5405405405405406"
   ]
  },
  {
   "cell_type": "markdown",
   "metadata": {},
   "source": [
    "__3. Convert these features - 'BP','insulin','BMI' and 'Pedigree'   into categorical values by mapping different bands of values of these features to integers 0,1,2.__  \n",
    " \n",
    "HINT: USE pd.cut with bin=3 to create 3 bins\n",
    "\n"
   ]
  },
  {
   "cell_type": "code",
   "execution_count": 132,
   "metadata": {},
   "outputs": [
    {
     "data": {
      "text/html": [
       "<div>\n",
       "<style scoped>\n",
       "    .dataframe tbody tr th:only-of-type {\n",
       "        vertical-align: middle;\n",
       "    }\n",
       "\n",
       "    .dataframe tbody tr th {\n",
       "        vertical-align: top;\n",
       "    }\n",
       "\n",
       "    .dataframe thead th {\n",
       "        text-align: right;\n",
       "    }\n",
       "</style>\n",
       "<table border=\"1\" class=\"dataframe\">\n",
       "  <thead>\n",
       "    <tr style=\"text-align: right;\">\n",
       "      <th></th>\n",
       "      <th>TimesPregnant</th>\n",
       "      <th>glucoseLevel</th>\n",
       "      <th>BP</th>\n",
       "      <th>insulin</th>\n",
       "      <th>BMI</th>\n",
       "      <th>Pedigree</th>\n",
       "      <th>Age</th>\n",
       "      <th>IsDiabetic</th>\n",
       "      <th>BMI_band</th>\n",
       "      <th>Pedigree_band</th>\n",
       "    </tr>\n",
       "  </thead>\n",
       "  <tbody>\n",
       "    <tr>\n",
       "      <th>0</th>\n",
       "      <td>6</td>\n",
       "      <td>148.0</td>\n",
       "      <td>1</td>\n",
       "      <td>0</td>\n",
       "      <td>1</td>\n",
       "      <td>0</td>\n",
       "      <td>50.0</td>\n",
       "      <td>1</td>\n",
       "      <td>(22.367, 44.733]</td>\n",
       "      <td>(0.0757, 0.859]</td>\n",
       "    </tr>\n",
       "    <tr>\n",
       "      <th>1</th>\n",
       "      <td>1</td>\n",
       "      <td>NaN</td>\n",
       "      <td>1</td>\n",
       "      <td>0</td>\n",
       "      <td>1</td>\n",
       "      <td>0</td>\n",
       "      <td>31.0</td>\n",
       "      <td>0</td>\n",
       "      <td>(22.367, 44.733]</td>\n",
       "      <td>(0.0757, 0.859]</td>\n",
       "    </tr>\n",
       "    <tr>\n",
       "      <th>2</th>\n",
       "      <td>8</td>\n",
       "      <td>183.0</td>\n",
       "      <td>1</td>\n",
       "      <td>0</td>\n",
       "      <td>1</td>\n",
       "      <td>0</td>\n",
       "      <td>NaN</td>\n",
       "      <td>1</td>\n",
       "      <td>(22.367, 44.733]</td>\n",
       "      <td>(0.0757, 0.859]</td>\n",
       "    </tr>\n",
       "    <tr>\n",
       "      <th>3</th>\n",
       "      <td>1</td>\n",
       "      <td>NaN</td>\n",
       "      <td>1</td>\n",
       "      <td>0</td>\n",
       "      <td>1</td>\n",
       "      <td>0</td>\n",
       "      <td>21.0</td>\n",
       "      <td>0</td>\n",
       "      <td>(22.367, 44.733]</td>\n",
       "      <td>(0.0757, 0.859]</td>\n",
       "    </tr>\n",
       "    <tr>\n",
       "      <th>4</th>\n",
       "      <td>0</td>\n",
       "      <td>137.0</td>\n",
       "      <td>0</td>\n",
       "      <td>0</td>\n",
       "      <td>1</td>\n",
       "      <td>2</td>\n",
       "      <td>33.0</td>\n",
       "      <td>1</td>\n",
       "      <td>(22.367, 44.733]</td>\n",
       "      <td>(1.639, 2.42]</td>\n",
       "    </tr>\n",
       "  </tbody>\n",
       "</table>\n",
       "</div>"
      ],
      "text/plain": [
       "   TimesPregnant  glucoseLevel BP insulin BMI Pedigree   Age  IsDiabetic  \\\n",
       "0              6         148.0  1       0   1        0  50.0           1   \n",
       "1              1           NaN  1       0   1        0  31.0           0   \n",
       "2              8         183.0  1       0   1        0   NaN           1   \n",
       "3              1           NaN  1       0   1        0  21.0           0   \n",
       "4              0         137.0  0       0   1        2  33.0           1   \n",
       "\n",
       "           BMI_band    Pedigree_band  \n",
       "0  (22.367, 44.733]  (0.0757, 0.859]  \n",
       "1  (22.367, 44.733]  (0.0757, 0.859]  \n",
       "2  (22.367, 44.733]  (0.0757, 0.859]  \n",
       "3  (22.367, 44.733]  (0.0757, 0.859]  \n",
       "4  (22.367, 44.733]    (1.639, 2.42]  "
      ]
     },
     "execution_count": 132,
     "metadata": {},
     "output_type": "execute_result"
    }
   ],
   "source": [
    "data['BP']=pd.cut(data['BP'],3,labels=[0,1,2])\n",
    "data['insulin']=pd.cut(data['insulin'],3,labels=[0,1,2])\n",
    "data['BMI']=pd.cut(data['BMI'],3,labels=[0,1,2])\n",
    "data['Pedigree']=pd.cut(data['Pedigree'],3,labels=[0,1,2])\n",
    "data.head()\n",
    "#raise NotImplementedError()\n",
    "\n"
   ]
  },
  {
   "cell_type": "code",
   "execution_count": 133,
   "metadata": {},
   "outputs": [],
   "source": [
    "###RUN THIS CELL BUT DO NOT ALTER IT \n",
    "assert sum(data['insulin'])==49\n",
    "assert sum(data['BMI'])==753\n",
    "assert sum(data['Pedigree'])==92"
   ]
  },
  {
   "cell_type": "markdown",
   "metadata": {},
   "source": [
    "\n",
    "__4. Now consider the original dataset again, instead of generalizing the NAN values with the mean of the feature we will try assigning values to NANs based on some hypothesis. For example for age we assume that the relation between BMI and BP of people is a reflection of the age group. We can have 9 types of BMI and BP relations and our aim is to find the median age of each of that group:__\n",
    "\n",
    "Your Age guess matrix will look like this:  \n",
    "\n",
    "| BMI | 0       | 1      | 2  |\n",
    "|-----|-------------|------------- |----- |\n",
    "| BP  |             |              |      |\n",
    "| 0   | a00         | a01          | a02  |\n",
    "| 1   | a10         | a11          | a12  |\n",
    "| 2   | a20         | a21          |  a22 |\n",
    "\n",
    "\n",
    "__Create a guess_matrix  for NaN values of *'Age'* ( using 'BMI' and 'BP')  and  *'glucoseLevel'*  (using 'BP' and 'Pedigree') for the given dataset and assign values accordingly to the NaNs in 'Age' or *'glucoseLevel'* .__\n",
    "\n",
    "\n",
    "Refer to how we guessed age in the titanic notebook in the class.\n",
    "\n"
   ]
  },
  {
   "cell_type": "code",
   "execution_count": 134,
   "metadata": {},
   "outputs": [
    {
     "name": "stdout",
     "output_type": "stream",
     "text": [
      "     TimesPregnant  glucoseLevel BP insulin BMI Pedigree  Age  IsDiabetic  \\\n",
      "0                6           148  1       0   1        0   50           1   \n",
      "1                1           112  1       0   1        0   31           0   \n",
      "2                8           183  1       0   1        0   29           1   \n",
      "3                1           112  1       0   1        0   21           0   \n",
      "4                0           137  0       0   1        2   33           1   \n",
      "5                5           116  1       0   1        0   30           0   \n",
      "6                3            78  1       0   1        0   26           1   \n",
      "7               10           115  0       0   1        0   29           0   \n",
      "8                2           197  1       1   1        0   53           1   \n",
      "9                8           133  2       0   0        0   54           1   \n",
      "10               4           110  2       0   1        0   37           0   \n",
      "11              10           168  1       0   1        0   34           1   \n",
      "12              10           139  1       0   1        1   57           0   \n",
      "13               1           112  1       2   1        0   59           1   \n",
      "14               5           166  1       0   1        0   51           1   \n",
      "15               7           100  0       0   1        0   32           1   \n",
      "16               0           133  2       0   2        0   31           1   \n",
      "17               7           107  1       0   1        0   31           1   \n",
      "18               1           103  0       0   1        0   33           0   \n",
      "19               1           115  1       0   1        0   32           1   \n",
      "20               3           126  2       0   1        0   27           0   \n",
      "21               8            99  2       0   1        0   50           0   \n",
      "22               7           196  2       0   1        0   41           1   \n",
      "23               9           119  1       0   1        0   29           1   \n",
      "24              11           143  2       0   1        0   51           1   \n",
      "25              10           125  1       0   1        0   41           1   \n",
      "26               7           147  1       0   1        0   43           1   \n",
      "27               1            97  1       0   1        0   29           0   \n",
      "28              13           133  2       0   0        0   57           0   \n",
      "29               5           117  2       0   1        0   38           0   \n",
      "..             ...           ... ..     ...  ..      ...  ...         ...   \n",
      "738              2            99  1       0   1        0   29           0   \n",
      "739              1           102  1       0   1        0   42           1   \n",
      "740             11           120  1       0   1        0   48           1   \n",
      "741              3           102  1       0   1        0   26           0   \n",
      "742              1           109  1       0   1        0   22           0   \n",
      "743              9           140  2       0   1        0   45           1   \n",
      "744             13           153  2       0   1        1   39           0   \n",
      "745             12           100  2       0   1        0   46           0   \n",
      "746              1           147  2       0   2        0   27           1   \n",
      "747              1            81  1       0   2        1   32           0   \n",
      "748              3           187  1       0   1        0   36           1   \n",
      "749              6           162  1       0   1        0   50           1   \n",
      "750              4           136  1       0   1        1   22           1   \n",
      "751              1           121  1       0   1        0   28           0   \n",
      "752              3           108  1       0   1        0   25           0   \n",
      "753              0           181  2       1   1        0   26           1   \n",
      "754              8           154  1       0   1        0   45           1   \n",
      "755              1           128  2       0   1        1   37           1   \n",
      "756              7           137  2       0   1        0   39           0   \n",
      "757              0           123  1       0   1        0   52           1   \n",
      "758              1           106  1       0   1        0   26           0   \n",
      "759              6           190  2       0   1        0   66           1   \n",
      "760              2            88  1       0   1        0   22           0   \n",
      "761              9           170  1       0   1        0   43           1   \n",
      "762              9            89  1       0   1        0   33           0   \n",
      "763             10           101  1       0   1        0   63           0   \n",
      "764              2           122  1       0   1        0   27           0   \n",
      "765              5           121  1       0   1        0   30           0   \n",
      "766              1           126  1       0   1        0   47           1   \n",
      "767              1            93  1       0   1        0   23           0   \n",
      "\n",
      "              BMI_band    Pedigree_band  \n",
      "0     (22.367, 44.733]  (0.0757, 0.859]  \n",
      "1     (22.367, 44.733]  (0.0757, 0.859]  \n",
      "2     (22.367, 44.733]  (0.0757, 0.859]  \n",
      "3     (22.367, 44.733]  (0.0757, 0.859]  \n",
      "4     (22.367, 44.733]    (1.639, 2.42]  \n",
      "5     (22.367, 44.733]  (0.0757, 0.859]  \n",
      "6     (22.367, 44.733]  (0.0757, 0.859]  \n",
      "7     (22.367, 44.733]  (0.0757, 0.859]  \n",
      "8     (22.367, 44.733]  (0.0757, 0.859]  \n",
      "9    (-0.0671, 22.367]  (0.0757, 0.859]  \n",
      "10    (22.367, 44.733]  (0.0757, 0.859]  \n",
      "11    (22.367, 44.733]  (0.0757, 0.859]  \n",
      "12    (22.367, 44.733]   (0.859, 1.639]  \n",
      "13    (22.367, 44.733]  (0.0757, 0.859]  \n",
      "14    (22.367, 44.733]  (0.0757, 0.859]  \n",
      "15    (22.367, 44.733]  (0.0757, 0.859]  \n",
      "16      (44.733, 67.1]  (0.0757, 0.859]  \n",
      "17    (22.367, 44.733]  (0.0757, 0.859]  \n",
      "18    (22.367, 44.733]  (0.0757, 0.859]  \n",
      "19    (22.367, 44.733]  (0.0757, 0.859]  \n",
      "20    (22.367, 44.733]  (0.0757, 0.859]  \n",
      "21    (22.367, 44.733]  (0.0757, 0.859]  \n",
      "22    (22.367, 44.733]  (0.0757, 0.859]  \n",
      "23    (22.367, 44.733]  (0.0757, 0.859]  \n",
      "24    (22.367, 44.733]  (0.0757, 0.859]  \n",
      "25    (22.367, 44.733]  (0.0757, 0.859]  \n",
      "26    (22.367, 44.733]  (0.0757, 0.859]  \n",
      "27    (22.367, 44.733]  (0.0757, 0.859]  \n",
      "28   (-0.0671, 22.367]  (0.0757, 0.859]  \n",
      "29    (22.367, 44.733]  (0.0757, 0.859]  \n",
      "..                 ...              ...  \n",
      "738   (22.367, 44.733]  (0.0757, 0.859]  \n",
      "739   (22.367, 44.733]  (0.0757, 0.859]  \n",
      "740   (22.367, 44.733]  (0.0757, 0.859]  \n",
      "741   (22.367, 44.733]  (0.0757, 0.859]  \n",
      "742   (22.367, 44.733]  (0.0757, 0.859]  \n",
      "743   (22.367, 44.733]  (0.0757, 0.859]  \n",
      "744   (22.367, 44.733]   (0.859, 1.639]  \n",
      "745   (22.367, 44.733]  (0.0757, 0.859]  \n",
      "746     (44.733, 67.1]  (0.0757, 0.859]  \n",
      "747     (44.733, 67.1]   (0.859, 1.639]  \n",
      "748   (22.367, 44.733]  (0.0757, 0.859]  \n",
      "749   (22.367, 44.733]  (0.0757, 0.859]  \n",
      "750   (22.367, 44.733]   (0.859, 1.639]  \n",
      "751   (22.367, 44.733]  (0.0757, 0.859]  \n",
      "752   (22.367, 44.733]  (0.0757, 0.859]  \n",
      "753   (22.367, 44.733]  (0.0757, 0.859]  \n",
      "754   (22.367, 44.733]  (0.0757, 0.859]  \n",
      "755   (22.367, 44.733]   (0.859, 1.639]  \n",
      "756   (22.367, 44.733]  (0.0757, 0.859]  \n",
      "757   (22.367, 44.733]  (0.0757, 0.859]  \n",
      "758   (22.367, 44.733]  (0.0757, 0.859]  \n",
      "759   (22.367, 44.733]  (0.0757, 0.859]  \n",
      "760   (22.367, 44.733]  (0.0757, 0.859]  \n",
      "761   (22.367, 44.733]  (0.0757, 0.859]  \n",
      "762   (22.367, 44.733]  (0.0757, 0.859]  \n",
      "763   (22.367, 44.733]  (0.0757, 0.859]  \n",
      "764   (22.367, 44.733]  (0.0757, 0.859]  \n",
      "765   (22.367, 44.733]  (0.0757, 0.859]  \n",
      "766   (22.367, 44.733]  (0.0757, 0.859]  \n",
      "767   (22.367, 44.733]  (0.0757, 0.859]  \n",
      "\n",
      "[768 rows x 10 columns]\n"
     ]
    }
   ],
   "source": [
    "guess_age = np.zeros((3,3),dtype=int) \n",
    "for i in range(0, 3):\n",
    "        for j in range(0,3):\n",
    "            guess_age_df = data[(data['BMI'] == i)&(data['BP'] == j)]['Age'].dropna()\n",
    "            age_guess = guess_age_df.median()\n",
    "            guess_age[i,j] = int(age_guess)\n",
    "  \n",
    "for i in range(0, 3):\n",
    "        for j in range(0, 3):\n",
    "            data.loc[ (data.Age.isnull()) & (data.BMI == i) \\\n",
    "            & (data.BP == j),'Age'] = guess_age[i,j]\n",
    "                    \n",
    "data['Age'] = data['Age'].astype(int)\n",
    "\n",
    "guess_glucose = np.zeros((3,3),dtype=int) \n",
    "for i in range(0, 3):\n",
    "        for j in range(0,3):\n",
    "            guess_glucose_df = data[(data['BP'] == i)&(data['Pedigree'] == j)]['glucoseLevel'].dropna()\n",
    "            glucose_guess = guess_glucose_df.median()\n",
    "            guess_glucose[i,j] = int(glucose_guess)\n",
    "  \n",
    "for i in range(0, 3):\n",
    "        for j in range(0, 3):\n",
    "            data.loc[ (data.glucoseLevel.isnull()) & (data.BP == i) \\\n",
    "            & (data.Pedigree == j),'glucoseLevel'] = guess_glucose[i,j]\n",
    "                    \n",
    "data['glucoseLevel'] = data['glucoseLevel'].astype(int)\n",
    "\n",
    "print(data)\n",
    "#raise NotImplementedError()\n",
    " "
   ]
  },
  {
   "cell_type": "markdown",
   "metadata": {},
   "source": [
    "\n",
    "\n",
    "__5. Now, convert 'glucoseLevel' and 'Age' features also to categorical variables of 4 categories each. PRINT the head of __`data`__ __\n",
    "\n",
    "\n",
    "\n",
    "\n",
    "\n",
    "\n"
   ]
  },
  {
   "cell_type": "code",
   "execution_count": 135,
   "metadata": {},
   "outputs": [
    {
     "data": {
      "text/html": [
       "<div>\n",
       "<style scoped>\n",
       "    .dataframe tbody tr th:only-of-type {\n",
       "        vertical-align: middle;\n",
       "    }\n",
       "\n",
       "    .dataframe tbody tr th {\n",
       "        vertical-align: top;\n",
       "    }\n",
       "\n",
       "    .dataframe thead th {\n",
       "        text-align: right;\n",
       "    }\n",
       "</style>\n",
       "<table border=\"1\" class=\"dataframe\">\n",
       "  <thead>\n",
       "    <tr style=\"text-align: right;\">\n",
       "      <th></th>\n",
       "      <th>TimesPregnant</th>\n",
       "      <th>glucoseLevel</th>\n",
       "      <th>BP</th>\n",
       "      <th>insulin</th>\n",
       "      <th>BMI</th>\n",
       "      <th>Pedigree</th>\n",
       "      <th>Age</th>\n",
       "      <th>IsDiabetic</th>\n",
       "      <th>BMI_band</th>\n",
       "      <th>Pedigree_band</th>\n",
       "    </tr>\n",
       "  </thead>\n",
       "  <tbody>\n",
       "    <tr>\n",
       "      <th>0</th>\n",
       "      <td>6</td>\n",
       "      <td>2</td>\n",
       "      <td>1</td>\n",
       "      <td>0</td>\n",
       "      <td>1</td>\n",
       "      <td>0</td>\n",
       "      <td>1</td>\n",
       "      <td>1</td>\n",
       "      <td>(22.367, 44.733]</td>\n",
       "      <td>(0.0757, 0.859]</td>\n",
       "    </tr>\n",
       "    <tr>\n",
       "      <th>1</th>\n",
       "      <td>1</td>\n",
       "      <td>2</td>\n",
       "      <td>1</td>\n",
       "      <td>0</td>\n",
       "      <td>1</td>\n",
       "      <td>0</td>\n",
       "      <td>0</td>\n",
       "      <td>0</td>\n",
       "      <td>(22.367, 44.733]</td>\n",
       "      <td>(0.0757, 0.859]</td>\n",
       "    </tr>\n",
       "    <tr>\n",
       "      <th>2</th>\n",
       "      <td>8</td>\n",
       "      <td>3</td>\n",
       "      <td>1</td>\n",
       "      <td>0</td>\n",
       "      <td>1</td>\n",
       "      <td>0</td>\n",
       "      <td>0</td>\n",
       "      <td>1</td>\n",
       "      <td>(22.367, 44.733]</td>\n",
       "      <td>(0.0757, 0.859]</td>\n",
       "    </tr>\n",
       "    <tr>\n",
       "      <th>3</th>\n",
       "      <td>1</td>\n",
       "      <td>2</td>\n",
       "      <td>1</td>\n",
       "      <td>0</td>\n",
       "      <td>1</td>\n",
       "      <td>0</td>\n",
       "      <td>0</td>\n",
       "      <td>0</td>\n",
       "      <td>(22.367, 44.733]</td>\n",
       "      <td>(0.0757, 0.859]</td>\n",
       "    </tr>\n",
       "    <tr>\n",
       "      <th>4</th>\n",
       "      <td>0</td>\n",
       "      <td>2</td>\n",
       "      <td>0</td>\n",
       "      <td>0</td>\n",
       "      <td>1</td>\n",
       "      <td>2</td>\n",
       "      <td>0</td>\n",
       "      <td>1</td>\n",
       "      <td>(22.367, 44.733]</td>\n",
       "      <td>(1.639, 2.42]</td>\n",
       "    </tr>\n",
       "  </tbody>\n",
       "</table>\n",
       "</div>"
      ],
      "text/plain": [
       "   TimesPregnant glucoseLevel BP insulin BMI Pedigree Age  IsDiabetic  \\\n",
       "0              6            2  1       0   1        0   1           1   \n",
       "1              1            2  1       0   1        0   0           0   \n",
       "2              8            3  1       0   1        0   0           1   \n",
       "3              1            2  1       0   1        0   0           0   \n",
       "4              0            2  0       0   1        2   0           1   \n",
       "\n",
       "           BMI_band    Pedigree_band  \n",
       "0  (22.367, 44.733]  (0.0757, 0.859]  \n",
       "1  (22.367, 44.733]  (0.0757, 0.859]  \n",
       "2  (22.367, 44.733]  (0.0757, 0.859]  \n",
       "3  (22.367, 44.733]  (0.0757, 0.859]  \n",
       "4  (22.367, 44.733]    (1.639, 2.42]  "
      ]
     },
     "execution_count": 135,
     "metadata": {},
     "output_type": "execute_result"
    }
   ],
   "source": [
    "data['glucoseLevel']=pd.cut(data['glucoseLevel'],4,labels=[0,1,2,3])\n",
    "data['Age']=pd.cut(data['Age'],4,labels=[0,1,2,3])\n",
    "data.head()\n",
    "#raise NotImplementedError()\n",
    " \n"
   ]
  },
  {
   "cell_type": "markdown",
   "metadata": {},
   "source": [
    "__6.Use this dataset (with all features in categorical form) to train perceptron, logistic regression and random forest models using 15% test split. Report training and test accuracies.__\n"
   ]
  },
  {
   "cell_type": "code",
   "execution_count": 136,
   "metadata": {},
   "outputs": [
    {
     "data": {
      "text/plain": [
       "((652, 7), (652,), (116, 7))"
      ]
     },
     "execution_count": 136,
     "metadata": {},
     "output_type": "execute_result"
    }
   ],
   "source": [
    "train_df, test_df = train_test_split(data, test_size=0.15, random_state=15)\n",
    "X_train = train_df.iloc[:,0:7]\n",
    "Y_train = train_df.iloc[:,7]\n",
    "X_test = test_df.iloc[:,0:7]\n",
    "Y_test = test_df.iloc[:,7]\n",
    "\n",
    "X_train.shape, Y_train.shape, X_test.shape"
   ]
  },
  {
   "cell_type": "code",
   "execution_count": 137,
   "metadata": {},
   "outputs": [
    {
     "name": "stdout",
     "output_type": "stream",
     "text": [
      "logreg training acuracy=  0.7346625766871165\n",
      "logreg test accuracy=  0.7586206896551724\n"
     ]
    }
   ],
   "source": [
    "# Logistic Regression\n",
    "logreg = LogisticRegression()\n",
    "logreg.fit(X_train, Y_train)\n",
    "logreg_train_acc = logreg.score(X_train, Y_train)\n",
    "logreg_test_acc = logreg.score(X_test,Y_test)\n",
    "print('logreg training acuracy= ',logreg_train_acc)\n",
    "print('logreg test accuracy= ',logreg_test_acc)"
   ]
  },
  {
   "cell_type": "code",
   "execution_count": 138,
   "metadata": {},
   "outputs": [
    {
     "name": "stdout",
     "output_type": "stream",
     "text": [
      "perceptron training acuracy=  0.7315950920245399\n",
      "perceptron test accuracy=  0.7241379310344828\n"
     ]
    },
    {
     "name": "stderr",
     "output_type": "stream",
     "text": [
      "/anaconda3/envs/data-x/lib/python3.6/site-packages/sklearn/linear_model/stochastic_gradient.py:128: FutureWarning: max_iter and tol parameters have been added in <class 'sklearn.linear_model.perceptron.Perceptron'> in 0.19. If both are left unset, they default to max_iter=5 and tol=None. If tol is not None, max_iter defaults to max_iter=1000. From 0.21, default max_iter will be 1000, and default tol will be 1e-3.\n",
      "  \"and default tol will be 1e-3.\" % type(self), FutureWarning)\n"
     ]
    }
   ],
   "source": [
    "# Perceptron\n",
    "perceptron = Perceptron()\n",
    "perceptron.fit(X_train, Y_train)\n",
    "perceptron_train_acc = perceptron.score(X_train, Y_train)\n",
    "perceptron_test_acc = perceptron.score(X_test,Y_test)\n",
    "print ('perceptron training acuracy= ',perceptron_train_acc)\n",
    "print('perceptron test accuracy= ',perceptron_test_acc)"
   ]
  },
  {
   "cell_type": "code",
   "execution_count": 139,
   "metadata": {},
   "outputs": [
    {
     "name": "stdout",
     "output_type": "stream",
     "text": [
      "random_forest training acuracy=  0.8588957055214724\n",
      "random_forest test accuracy=  0.75\n"
     ]
    }
   ],
   "source": [
    "# Random Forest\n",
    "random_forest = RandomForestClassifier()\n",
    "random_forest.fit(X_train, Y_train)\n",
    "random_forest_train_acc = random_forest.score(X_train, Y_train)\n",
    "random_forest_test_acc = random_forest.score(X_test, Y_test)\n",
    "print('random_forest training acuracy= ',random_forest_train_acc)\n",
    "print('random_forest test accuracy= ',random_forest_test_acc)"
   ]
  },
  {
   "cell_type": "code",
   "execution_count": null,
   "metadata": {},
   "outputs": [],
   "source": []
  }
 ],
 "metadata": {
  "kernel_info": {
   "name": "data-x"
  },
  "kernelspec": {
   "display_name": "Python 3",
   "language": "python",
   "name": "python3"
  },
  "language_info": {
   "codemirror_mode": {
    "name": "ipython",
    "version": 3
   },
   "file_extension": ".py",
   "mimetype": "text/x-python",
   "name": "python",
   "nbconvert_exporter": "python",
   "pygments_lexer": "ipython3",
   "version": "3.6.5"
  },
  "nteract": {
   "version": "0.7.1"
  }
 },
 "nbformat": 4,
 "nbformat_minor": 2
}
